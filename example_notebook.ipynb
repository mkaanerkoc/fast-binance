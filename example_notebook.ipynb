{
 "cells": [
  {
   "cell_type": "code",
   "execution_count": 6,
   "metadata": {},
   "outputs": [],
   "source": [
    "from fast_binance.online_fetcher import OpenInterestFetcher, OnlinePriceFetcher"
   ]
  },
  {
   "cell_type": "code",
   "execution_count": 11,
   "metadata": {},
   "outputs": [],
   "source": [
    "pf = OpenInterestFetcher()\n",
    "res = await pf.async_download(['FTMUSDT', 'ETHUSDT', 'BTCUSDT'], \n",
    "                    period='1h')\n"
   ]
  },
  {
   "cell_type": "code",
   "execution_count": 13,
   "metadata": {},
   "outputs": [
    {
     "data": {
      "text/plain": [
       "812941.8017666667"
      ]
     },
     "execution_count": 13,
     "metadata": {},
     "output_type": "execute_result"
    }
   ],
   "source": [
    "res['ETHUSDT']['sumOpenInterest'].mean()"
   ]
  },
  {
   "cell_type": "code",
   "execution_count": 14,
   "metadata": {},
   "outputs": [
    {
     "data": {
      "text/plain": [
       "timestamp\n",
       "2024-03-13 17:00:00    800408.309\n",
       "2024-03-13 18:00:00    802842.580\n",
       "2024-03-13 19:00:00    804291.357\n",
       "2024-03-13 20:00:00    803848.163\n",
       "2024-03-13 21:00:00    792965.582\n",
       "2024-03-13 22:00:00    793880.630\n",
       "2024-03-13 23:00:00    796316.080\n",
       "2024-03-14 00:00:00    795342.351\n",
       "2024-03-14 01:00:00    798761.961\n",
       "2024-03-14 02:00:00    806139.535\n",
       "2024-03-14 03:00:00    803312.674\n",
       "2024-03-14 04:00:00    802518.401\n",
       "2024-03-14 05:00:00    805565.020\n",
       "2024-03-14 06:00:00    812910.070\n",
       "2024-03-14 07:00:00    806800.890\n",
       "2024-03-14 08:00:00    809735.364\n",
       "2024-03-14 09:00:00    810241.309\n",
       "2024-03-14 10:00:00    807617.003\n",
       "2024-03-14 11:00:00    809517.497\n",
       "2024-03-14 12:00:00    818606.169\n",
       "2024-03-14 13:00:00    824047.664\n",
       "2024-03-14 14:00:00    831813.355\n",
       "2024-03-14 15:00:00    835480.817\n",
       "2024-03-14 16:00:00    839687.069\n",
       "2024-03-14 17:00:00    845555.277\n",
       "2024-03-14 18:00:00    845881.426\n",
       "2024-03-14 19:00:00    828468.294\n",
       "2024-03-14 20:00:00    816222.267\n",
       "2024-03-14 21:00:00    820065.930\n",
       "2024-03-14 22:00:00    819411.009\n",
       "Name: sumOpenInterest, dtype: float64"
      ]
     },
     "execution_count": 14,
     "metadata": {},
     "output_type": "execute_result"
    }
   ],
   "source": [
    "res['ETHUSDT']['sumOpenInterest']"
   ]
  },
  {
   "cell_type": "code",
   "execution_count": null,
   "metadata": {},
   "outputs": [],
   "source": []
  }
 ],
 "metadata": {
  "kernelspec": {
   "display_name": "Python 3",
   "language": "python",
   "name": "python3"
  },
  "language_info": {
   "codemirror_mode": {
    "name": "ipython",
    "version": 3
   },
   "file_extension": ".py",
   "mimetype": "text/x-python",
   "name": "python",
   "nbconvert_exporter": "python",
   "pygments_lexer": "ipython3",
   "version": "3.9.18"
  },
  "orig_nbformat": 4
 },
 "nbformat": 4,
 "nbformat_minor": 2
}
