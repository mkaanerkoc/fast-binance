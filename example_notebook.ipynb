{
 "cells": [
  {
   "cell_type": "code",
   "execution_count": 1,
   "metadata": {},
   "outputs": [],
   "source": [
    "from fast_binance.fast_binance import OnlinePriceFetcher"
   ]
  },
  {
   "cell_type": "code",
   "execution_count": 2,
   "metadata": {},
   "outputs": [
    {
     "name": "stdout",
     "output_type": "stream",
     "text": [
      "An error occured while fetching SEIUSDT. Error: Length mismatch: Expected axis has 0 elements, new values have 12 elements. {'interval': '1h', 'start_str': '2023-07-01', 'end_str': '2023-08-01'}\n",
      "An error occured while fetching FTTUSDT. Error: Length mismatch: Expected axis has 0 elements, new values have 12 elements. {'interval': '1h', 'start_str': '2023-07-01', 'end_str': '2023-08-01'}\n",
      "{'SEIUSDT': 'Length mismatch: Expected axis has 0 elements, new values have 12 elements', 'FTTUSDT': 'Length mismatch: Expected axis has 0 elements, new values have 12 elements', 'BTCUSDT':                          open      high       low     close      volume  \\\n",
      "open_time                                                                 \n",
      "2023-07-01 00:00:00  30471.99  30534.74  30420.00  30469.83  1244.96393   \n",
      "2023-07-01 01:00:00  30469.82  30484.31  30380.51  30447.78  1182.24313   \n",
      "2023-07-01 02:00:00  30447.77  30530.64  30390.33  30420.85   871.56148   \n",
      "2023-07-01 03:00:00  30420.84  30444.00  30375.85  30398.01   709.27222   \n",
      "2023-07-01 04:00:00  30398.02  30417.62  30320.57  30389.15  1296.90923   \n",
      "...                       ...       ...       ...       ...         ...   \n",
      "2023-07-31 20:00:00  29157.49  29257.99  29115.64  29208.27  1340.23541   \n",
      "2023-07-31 21:00:00  29208.28  29295.24  29158.46  29243.31   865.68795   \n",
      "2023-07-31 22:00:00  29243.32  29243.32  29201.00  29209.99   441.45067   \n",
      "2023-07-31 23:00:00  29210.00  29240.50  29190.00  29232.25   437.20574   \n",
      "2023-08-01 00:00:00  29232.26  29288.20  29210.99  29283.96   720.85463   \n",
      "\n",
      "                        close_time  quote_volume  count  taker_buy_volume  \\\n",
      "open_time                                                                   \n",
      "2023-07-01 00:00:00  1688173199999  3.796122e+07  34431         583.42618   \n",
      "2023-07-01 01:00:00  1688176799999  3.598583e+07  36840         548.10204   \n",
      "2023-07-01 02:00:00  1688180399999  2.654183e+07  25121         439.93886   \n",
      "2023-07-01 03:00:00  1688183999999  2.156691e+07  17815         248.73089   \n",
      "2023-07-01 04:00:00  1688187599999  3.938632e+07  28893         529.70642   \n",
      "...                            ...           ...    ...               ...   \n",
      "2023-07-31 20:00:00  1690837199999  3.912652e+07  36089         734.27381   \n",
      "2023-07-31 21:00:00  1690840799999  2.529714e+07  26473         452.09710   \n",
      "2023-07-31 22:00:00  1690844399999  1.289902e+07  15041         203.78311   \n",
      "2023-07-31 23:00:00  1690847999999  1.277267e+07  12755         222.21180   \n",
      "2023-08-01 00:00:00  1690851599999  2.107947e+07  17954         341.10168   \n",
      "\n",
      "                     taker_buy_quote_volume ignore  \n",
      "open_time                                           \n",
      "2023-07-01 00:00:00            1.778958e+07      0  \n",
      "2023-07-01 01:00:00            1.668316e+07      0  \n",
      "2023-07-01 02:00:00            1.339703e+07      0  \n",
      "2023-07-01 03:00:00            7.562857e+06      0  \n",
      "2023-07-01 04:00:00            1.608618e+07      0  \n",
      "...                                     ...    ...  \n",
      "2023-07-31 20:00:00            2.143501e+07      0  \n",
      "2023-07-31 21:00:00            1.321175e+07      0  \n",
      "2023-07-31 22:00:00            5.953828e+06      0  \n",
      "2023-07-31 23:00:00            6.491104e+06      0  \n",
      "2023-08-01 00:00:00            9.975408e+06      0  \n",
      "\n",
      "[745 rows x 11 columns]}\n"
     ]
    }
   ],
   "source": [
    "pf = OnlinePriceFetcher('spot')\n",
    "res = await pf.async_download(['SEIUSDT', 'FTTUSDT', 'BTCUSDT'], \n",
    "                    interval='1h', \n",
    "                    start_str='2023-07-01',\n",
    "                    end_str='2023-08-01' )\n",
    "print(res)"
   ]
  },
  {
   "cell_type": "code",
   "execution_count": null,
   "metadata": {},
   "outputs": [],
   "source": []
  }
 ],
 "metadata": {
  "kernelspec": {
   "display_name": "Python 3",
   "language": "python",
   "name": "python3"
  },
  "language_info": {
   "codemirror_mode": {
    "name": "ipython",
    "version": 3
   },
   "file_extension": ".py",
   "mimetype": "text/x-python",
   "name": "python",
   "nbconvert_exporter": "python",
   "pygments_lexer": "ipython3",
   "version": "3.9.16"
  },
  "orig_nbformat": 4
 },
 "nbformat": 4,
 "nbformat_minor": 2
}
